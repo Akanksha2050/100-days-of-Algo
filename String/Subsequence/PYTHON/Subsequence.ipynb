{
 "cells": [
  {
   "cell_type": "markdown",
   "metadata": {},
   "source": [
    "# Print Subsequence :"
   ]
  },
  {
   "cell_type": "markdown",
   "metadata": {},
   "source": [
    "### Question\n",
    "1. You are given a string str.\n",
    "2. write a function to calculate and print all subsequences of str.\n",
    "\n",
    "**Input Format** :\n",
    "- A string str\n",
    "\n",
    "**Output Format** :\n",
    "- Subsequences of str in order ."
   ]
  },
  {
   "cell_type": "code",
   "execution_count": 2,
   "metadata": {},
   "outputs": [
    {
     "name": "stdout",
     "output_type": "stream",
     "text": [
      " enter  agh\n",
      "\n",
      "h\n",
      "g\n",
      "gh\n",
      "a\n",
      "ah\n",
      "ag\n",
      "agh\n",
      "None\n"
     ]
    }
   ],
   "source": [
    "def fun(str , emp ):\n",
    "    if(0 == len(str)):\n",
    "        print(emp)\n",
    "        return\n",
    "        \n",
    "    ch = str[0]\n",
    "    roq = str[1:]\n",
    "    fun(roq , emp)\n",
    "    fun(roq , emp+ ch)\n",
    "\n",
    "a = input( ' enter  ')\n",
    "if(len(a) == 0):\n",
    "    print()\n",
    "    \n",
    "ans = fun(a , \"\")\n",
    "print(ans)"
   ]
  },
  {
   "cell_type": "code",
   "execution_count": 3,
   "metadata": {},
   "outputs": [
    {
     "name": "stdout",
     "output_type": "stream",
     "text": [
      " enter  trw\n",
      "\n",
      "w\n",
      "r\n",
      "rw\n",
      "t\n",
      "tw\n",
      "tr\n",
      "trw\n",
      "None\n"
     ]
    }
   ],
   "source": [
    "a = input( ' enter  ')\n",
    "if(len(a) == 0):\n",
    "    print()\n",
    "    \n",
    "ans = fun(a , \"\")\n",
    "print(ans)"
   ]
  },
  {
   "cell_type": "code",
   "execution_count": 4,
   "metadata": {},
   "outputs": [
    {
     "name": "stdout",
     "output_type": "stream",
     "text": [
      " enter  oplmn\n",
      "\n",
      "n\n",
      "m\n",
      "mn\n",
      "l\n",
      "ln\n",
      "lm\n",
      "lmn\n",
      "p\n",
      "pn\n",
      "pm\n",
      "pmn\n",
      "pl\n",
      "pln\n",
      "plm\n",
      "plmn\n",
      "o\n",
      "on\n",
      "om\n",
      "omn\n",
      "ol\n",
      "oln\n",
      "olm\n",
      "olmn\n",
      "op\n",
      "opn\n",
      "opm\n",
      "opmn\n",
      "opl\n",
      "opln\n",
      "oplm\n",
      "oplmn\n",
      "None\n"
     ]
    }
   ],
   "source": [
    "a = input( ' enter  ')\n",
    "if(len(a) == 0):\n",
    "    print()\n",
    "    \n",
    "ans = fun(a , \"\")\n",
    "print(ans)"
   ]
  },
  {
   "cell_type": "code",
   "execution_count": null,
   "metadata": {},
   "outputs": [],
   "source": []
  }
 ],
 "metadata": {
  "kernelspec": {
   "display_name": "Python 3",
   "language": "python",
   "name": "python3"
  },
  "language_info": {
   "codemirror_mode": {
    "name": "ipython",
    "version": 3
   },
   "file_extension": ".py",
   "mimetype": "text/x-python",
   "name": "python",
   "nbconvert_exporter": "python",
   "pygments_lexer": "ipython3",
   "version": "3.7.6"
  }
 },
 "nbformat": 4,
 "nbformat_minor": 4
}
